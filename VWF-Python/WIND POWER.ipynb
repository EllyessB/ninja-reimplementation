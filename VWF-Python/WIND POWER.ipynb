{
 "cells": [
  {
   "cell_type": "code",
   "execution_count": null,
   "id": "0ea26b4e",
   "metadata": {},
   "outputs": [],
   "source": [
    "the limitations of MERRA are 3d but only provide data at 5 10 and 50m why does it only have these heights\n",
    "\n",
    "extrapolation in verticle why are we limited ^^^^^^^^^ how is this extrapolation done in a robust way is the extrapolation in the verticle does it use local knowledge or does it assume is verticle same everywhere in world\n",
    "is this limitation of merra 2 ?\n",
    "extrapolation how its done\n",
    "bias correction is done in rigerous data science way or is it more adhoc\n",
    "averaging per country why is it done. like this is there better ways to average spatially.\n"
   ]
  }
 ],
 "metadata": {
  "kernelspec": {
   "display_name": "Python 3 (ipykernel)",
   "language": "python",
   "name": "python3"
  },
  "language_info": {
   "codemirror_mode": {
    "name": "ipython",
    "version": 3
   },
   "file_extension": ".py",
   "mimetype": "text/x-python",
   "name": "python",
   "nbconvert_exporter": "python",
   "pygments_lexer": "ipython3",
   "version": "3.9.7"
  }
 },
 "nbformat": 4,
 "nbformat_minor": 5
}
